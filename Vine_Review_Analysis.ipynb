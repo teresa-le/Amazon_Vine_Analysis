{
  "cells": [
    {
      "cell_type": "markdown",
      "source": [
        "## Install Spark"
      ],
      "metadata": {
        "id": "oMKDDyAvvKjL"
      }
    },
    {
      "cell_type": "code",
      "execution_count": 3,
      "metadata": {
        "colab": {
          "base_uri": "https://localhost:8080/"
        },
        "id": "V58rxea0HqSa",
        "outputId": "c24781be-3865-4f41-b18d-40ad93647c81"
      },
      "outputs": [
        {
          "output_type": "stream",
          "name": "stdout",
          "text": [
            "Get:1 https://cloud.r-project.org/bin/linux/ubuntu bionic-cran40/ InRelease [3,626 B]\n",
            "Hit:2 http://archive.ubuntu.com/ubuntu bionic InRelease\n",
            "Ign:3 https://developer.download.nvidia.com/compute/machine-learning/repos/ubuntu1804/x86_64  InRelease\n",
            "Hit:4 https://developer.download.nvidia.com/compute/cuda/repos/ubuntu1804/x86_64  InRelease\n",
            "Get:5 http://archive.ubuntu.com/ubuntu bionic-updates InRelease [88.7 kB]\n",
            "Get:6 http://security.ubuntu.com/ubuntu bionic-security InRelease [88.7 kB]\n",
            "Hit:7 https://developer.download.nvidia.com/compute/machine-learning/repos/ubuntu1804/x86_64  Release\n",
            "Get:8 http://ppa.launchpad.net/c2d4u.team/c2d4u4.0+/ubuntu bionic InRelease [15.9 kB]\n",
            "Get:9 http://archive.ubuntu.com/ubuntu bionic-backports InRelease [83.3 kB]\n",
            "Hit:10 http://ppa.launchpad.net/cran/libgit2/ubuntu bionic InRelease\n",
            "Hit:11 http://ppa.launchpad.net/deadsnakes/ppa/ubuntu bionic InRelease\n",
            "Get:12 http://ppa.launchpad.net/graphics-drivers/ppa/ubuntu bionic InRelease [21.3 kB]\n",
            "Get:14 http://archive.ubuntu.com/ubuntu bionic-updates/multiverse amd64 Packages [30.8 kB]\n",
            "Get:15 http://archive.ubuntu.com/ubuntu bionic-updates/universe amd64 Packages [2,348 kB]\n",
            "Get:16 http://archive.ubuntu.com/ubuntu bionic-updates/main amd64 Packages [3,549 kB]\n",
            "Get:17 http://archive.ubuntu.com/ubuntu bionic-updates/restricted amd64 Packages [1,389 kB]\n",
            "Get:18 http://ppa.launchpad.net/c2d4u.team/c2d4u4.0+/ubuntu bionic/main Sources [2,240 kB]\n",
            "Get:19 http://security.ubuntu.com/ubuntu bionic-security/main amd64 Packages [3,127 kB]\n",
            "Get:20 http://ppa.launchpad.net/c2d4u.team/c2d4u4.0+/ubuntu bionic/main amd64 Packages [1,145 kB]\n",
            "Get:21 http://security.ubuntu.com/ubuntu bionic-security/restricted amd64 Packages [1,349 kB]\n",
            "Get:22 http://security.ubuntu.com/ubuntu bionic-security/universe amd64 Packages [1,573 kB]\n",
            "Get:23 http://ppa.launchpad.net/graphics-drivers/ppa/ubuntu bionic/main amd64 Packages [43.2 kB]\n",
            "Fetched 17.1 MB in 4s (4,452 kB/s)\n",
            "Reading package lists... Done\n"
          ]
        }
      ],
      "source": [
        "import os\n",
        "# Find the latest version of spark 3.2 from http://www.apache.org/dist/spark/ and enter as the spark version\n",
        "# For example:\n",
        "# spark_version = 'spark-3.2.3'\n",
        "spark_version = 'spark-3.2.3'\n",
        "os.environ['SPARK_VERSION']=spark_version\n",
        "\n",
        "# Install Spark and Java\n",
        "!apt-get update\n",
        "!apt-get install openjdk-11-jdk-headless -qq > /dev/null\n",
        "!wget -q http://www.apache.org/dist/spark/$SPARK_VERSION/$SPARK_VERSION-bin-hadoop2.7.tgz\n",
        "!tar xf $SPARK_VERSION-bin-hadoop2.7.tgz\n",
        "!pip install -q findspark\n",
        "\n",
        "# Set Environment Variables\n",
        "import os\n",
        "os.environ[\"JAVA_HOME\"] = \"/usr/lib/jvm/java-11-openjdk-amd64\"\n",
        "os.environ[\"SPARK_HOME\"] = f\"/content/spark-3.2.3-bin-hadoop2.7\"\n",
        "\n",
        "# Start a SparkSession\n",
        "import findspark\n",
        "findspark.init()"
      ]
    },
    {
      "cell_type": "code",
      "execution_count": 4,
      "metadata": {
        "id": "MMqDAjVS0KN9"
      },
      "outputs": [],
      "source": [
        "from pyspark.sql import SparkSession\n",
        "spark = SparkSession.builder.appName('Vine-Review-Analysis').getOrCreate()"
      ]
    },
    {
      "cell_type": "markdown",
      "source": [
        "## Extract the dataset as a csv file\n"
      ],
      "metadata": {
        "id": "Yw62VIb0vR-8"
      }
    },
    {
      "cell_type": "code",
      "source": [
        "# Connect to Google Drive\n",
        "from google.colab import drive\n",
        "drive.mount('/content/gdrive')"
      ],
      "metadata": {
        "colab": {
          "base_uri": "https://localhost:8080/"
        },
        "id": "b0JMVWLkrEpf",
        "outputId": "1ea49624-c9b4-4bfc-8cdc-4baab1f4b22b"
      },
      "execution_count": 8,
      "outputs": [
        {
          "output_type": "stream",
          "name": "stdout",
          "text": [
            "Drive already mounted at /content/gdrive; to attempt to forcibly remount, call drive.mount(\"/content/gdrive\", force_remount=True).\n"
          ]
        }
      ]
    },
    {
      "cell_type": "code",
      "source": [
        "# Import the csv file as a DataFrame\n",
        "vine_df = spark.read.format('csv').option('header', 'true').option('inferSchema', 'true').load('/content/vine_table.csv')"
      ],
      "metadata": {
        "id": "4O6TAWC_z4pd"
      },
      "execution_count": 19,
      "outputs": []
    },
    {
      "cell_type": "code",
      "source": [
        "vine_df.show(5)"
      ],
      "metadata": {
        "colab": {
          "base_uri": "https://localhost:8080/"
        },
        "id": "baU40yMD0NPJ",
        "outputId": "b8a715ae-f815-4348-e133-7154e6437580"
      },
      "execution_count": 20,
      "outputs": [
        {
          "output_type": "stream",
          "name": "stdout",
          "text": [
            "+--------------+-----------+-------------+-----------+----+-----------------+\n",
            "|     review_id|star_rating|helpful_votes|total_votes|vine|verified_purchase|\n",
            "+--------------+-----------+-------------+-----------+----+-----------------+\n",
            "| R3EQSTM9PWRAL|          3|            0|          0|   N|                Y|\n",
            "| RBWPRK17XKIXD|          5|            0|          0|   N|                Y|\n",
            "| RRSLOAF273XFC|          5|            1|          2|   N|                Y|\n",
            "|R3S8W9Q6SWIT8O|          4|            0|          0|   N|                Y|\n",
            "|R3QQ6NSLRVBFJC|          4|            0|          0|   N|                Y|\n",
            "+--------------+-----------+-------------+-----------+----+-----------------+\n",
            "only showing top 5 rows\n",
            "\n"
          ]
        }
      ]
    },
    {
      "cell_type": "markdown",
      "source": [
        "## Part 1 - Retrieve rows that have total votes that are 20 or greater"
      ],
      "metadata": {
        "id": "dKWsz3HI44Ev"
      }
    },
    {
      "cell_type": "code",
      "source": [
        "df_filtered_total_votes = vine_df.filter(vine_df.total_votes >= 20).sort(vine_df.total_votes.asc())\n",
        "\n",
        "df_filtered_total_votes.show(5)"
      ],
      "metadata": {
        "colab": {
          "base_uri": "https://localhost:8080/"
        },
        "id": "g_FOWDIx42lp",
        "outputId": "790cd0d4-5da9-42f1-f9cf-74c387a01c5c"
      },
      "execution_count": 30,
      "outputs": [
        {
          "output_type": "stream",
          "name": "stdout",
          "text": [
            "+--------------+-----------+-------------+-----------+----+-----------------+\n",
            "|     review_id|star_rating|helpful_votes|total_votes|vine|verified_purchase|\n",
            "+--------------+-----------+-------------+-----------+----+-----------------+\n",
            "|R1QHNDT8EEYGT2|          5|           19|         20|   N|                N|\n",
            "|R1UN7MR4HXB5OB|          5|           19|         20|   N|                Y|\n",
            "|R36FG0N8AGH2BL|          1|            6|         20|   N|                Y|\n",
            "|R1DB6355KE79V4|          2|            2|         20|   N|                Y|\n",
            "|R2C9YSW5FZUI55|          5|           13|         20|   N|                N|\n",
            "+--------------+-----------+-------------+-----------+----+-----------------+\n",
            "only showing top 5 rows\n",
            "\n"
          ]
        }
      ]
    },
    {
      "cell_type": "markdown",
      "source": [
        "## Part 2 - Retrieve rows that have a percentage of helpful votes that is 50% or greater"
      ],
      "metadata": {
        "id": "xnL_wOKl5-JW"
      }
    },
    {
      "cell_type": "code",
      "source": [
        "from pyspark.sql.functions import col \n",
        "\n",
        "# Create the new column and calculate the percentage\n",
        "df_helpful_votes = df_filtered_total_votes.withColumn(\"percentage_helpful_votes\", col(\"helpful_votes\") / col(\"total_votes\"))\n",
        "\n",
        "df_helpful_votes.show(5)"
      ],
      "metadata": {
        "colab": {
          "base_uri": "https://localhost:8080/"
        },
        "id": "kILT8h8J5dD1",
        "outputId": "fd49f8f5-2adc-458e-eebd-b81a7e985f97"
      },
      "execution_count": 35,
      "outputs": [
        {
          "output_type": "stream",
          "name": "stdout",
          "text": [
            "+--------------+-----------+-------------+-----------+----+-----------------+------------------------+\n",
            "|     review_id|star_rating|helpful_votes|total_votes|vine|verified_purchase|percentage_helpful_votes|\n",
            "+--------------+-----------+-------------+-----------+----+-----------------+------------------------+\n",
            "|R1QHNDT8EEYGT2|          5|           19|         20|   N|                N|                    0.95|\n",
            "|R1UN7MR4HXB5OB|          5|           19|         20|   N|                Y|                    0.95|\n",
            "|R36FG0N8AGH2BL|          1|            6|         20|   N|                Y|                     0.3|\n",
            "|R1DB6355KE79V4|          2|            2|         20|   N|                Y|                     0.1|\n",
            "|R2C9YSW5FZUI55|          5|           13|         20|   N|                N|                    0.65|\n",
            "+--------------+-----------+-------------+-----------+----+-----------------+------------------------+\n",
            "only showing top 5 rows\n",
            "\n"
          ]
        }
      ]
    },
    {
      "cell_type": "code",
      "source": [
        "# Filter for the rows where % of helpful votes is greater than or equal to 50% \n",
        "df_filtered_helpful_votes = df_helpful_votes.filter(df_helpful_votes.percentage_helpful_votes >= 0.5).sort(df_helpful_votes.percentage_helpful_votes.asc())\n",
        "\n",
        "df_filtered_helpful_votes.show(5)"
      ],
      "metadata": {
        "colab": {
          "base_uri": "https://localhost:8080/"
        },
        "id": "NQUoyw4a-NHF",
        "outputId": "5ad6e33e-ad40-4f39-acbf-b3756b8fb1d0"
      },
      "execution_count": 36,
      "outputs": [
        {
          "output_type": "stream",
          "name": "stdout",
          "text": [
            "+--------------+-----------+-------------+-----------+----+-----------------+------------------------+\n",
            "|     review_id|star_rating|helpful_votes|total_votes|vine|verified_purchase|percentage_helpful_votes|\n",
            "+--------------+-----------+-------------+-----------+----+-----------------+------------------------+\n",
            "|R3JLKND0U4YT6E|          1|           15|         30|   N|                Y|                     0.5|\n",
            "| RCUZEDUM61BTF|          1|           10|         20|   N|                Y|                     0.5|\n",
            "|R3SQVCMOKJBAPC|          5|           11|         22|   N|                Y|                     0.5|\n",
            "|R1JDS7GVSDMLVL|          1|           16|         32|   N|                Y|                     0.5|\n",
            "| REVRH4SZSXR56|          1|           12|         24|   N|                Y|                     0.5|\n",
            "+--------------+-----------+-------------+-----------+----+-----------------+------------------------+\n",
            "only showing top 5 rows\n",
            "\n"
          ]
        }
      ]
    },
    {
      "cell_type": "markdown",
      "source": [
        "## Part 3 - Retrieve rows where a review was written as part of the Vine program (paid)\n",
        "\n"
      ],
      "metadata": {
        "id": "OCS4BckS_xTm"
      }
    },
    {
      "cell_type": "code",
      "source": [
        "# Filter for the rows where Vine is equal to 'Y' or yes and sort by ascending order as a check \n",
        "vine_paid_reviews = df_filtered_helpful_votes.filter(df_filtered_helpful_votes.vine == 'Y').sort(df_helpful_votes.vine.asc())\n",
        "\n",
        "vine_paid_reviews.show(5)\n"
      ],
      "metadata": {
        "colab": {
          "base_uri": "https://localhost:8080/"
        },
        "id": "IAzOl2tMCQx-",
        "outputId": "0a9213f5-9eda-4fe6-f3e9-1aeb17e5f6f9"
      },
      "execution_count": 40,
      "outputs": [
        {
          "output_type": "stream",
          "name": "stdout",
          "text": [
            "+--------------+-----------+-------------+-----------+----+-----------------+------------------------+\n",
            "|     review_id|star_rating|helpful_votes|total_votes|vine|verified_purchase|percentage_helpful_votes|\n",
            "+--------------+-----------+-------------+-----------+----+-----------------+------------------------+\n",
            "|R3VC6XDKPX0BBI|          4|           71|         82|   Y|                N|      0.8658536585365854|\n",
            "|R10VXTKK26IPXN|          5|           98|        102|   Y|                N|      0.9607843137254902|\n",
            "|R2Z01BR4BYGQTI|          4|           20|         26|   Y|                N|      0.7692307692307693|\n",
            "|R2V7LXZUJTPLJL|          1|           21|         27|   Y|                N|      0.7777777777777778|\n",
            "| RSZ9IDZ9Y3700|          4|          142|        154|   Y|                N|       0.922077922077922|\n",
            "+--------------+-----------+-------------+-----------+----+-----------------+------------------------+\n",
            "only showing top 5 rows\n",
            "\n"
          ]
        }
      ]
    },
    {
      "cell_type": "markdown",
      "source": [
        "## Part 4 - Retrieve rows where a review wasn't written as part of the Vine program (unpaid)"
      ],
      "metadata": {
        "id": "tLnsxNNUCFIL"
      }
    },
    {
      "cell_type": "code",
      "source": [
        "# Filter for rows where Vine is equal to 'N' or no and sort by descending order as a check \n",
        "unpaid_reviews = df_filtered_helpful_votes.filter(df_filtered_helpful_votes.vine == 'N').sort(df_helpful_votes.vine.desc())\n",
        "\n",
        "unpaid_reviews.show(5)\n"
      ],
      "metadata": {
        "colab": {
          "base_uri": "https://localhost:8080/"
        },
        "id": "ZRWVHzT5Db7r",
        "outputId": "26a72fd2-8de4-4ca8-9b09-399392105d80"
      },
      "execution_count": 41,
      "outputs": [
        {
          "output_type": "stream",
          "name": "stdout",
          "text": [
            "+--------------+-----------+-------------+-----------+----+-----------------+------------------------+\n",
            "|     review_id|star_rating|helpful_votes|total_votes|vine|verified_purchase|percentage_helpful_votes|\n",
            "+--------------+-----------+-------------+-----------+----+-----------------+------------------------+\n",
            "|R3FWCZACX088J5|          1|           38|         66|   N|                Y|      0.5757575757575758|\n",
            "|R1UI2GK0ZD6IQM|          1|           20|         38|   N|                Y|      0.5263157894736842|\n",
            "|R1LUO5GU4SFH49|          3|           23|         27|   N|                N|      0.8518518518518519|\n",
            "| RG7406AJVBUBK|          5|          157|        184|   N|                N|      0.8532608695652174|\n",
            "|R1JX2GVHX1QYIN|          5|          158|        160|   N|                Y|                  0.9875|\n",
            "+--------------+-----------+-------------+-----------+----+-----------------+------------------------+\n",
            "only showing top 5 rows\n",
            "\n"
          ]
        }
      ]
    }
  ],
  "metadata": {
    "colab": {
      "provenance": []
    },
    "kernelspec": {
      "display_name": "Python 3 (ipykernel)",
      "language": "python",
      "name": "python3"
    },
    "language_info": {
      "codemirror_mode": {
        "name": "ipython",
        "version": 3
      },
      "file_extension": ".py",
      "mimetype": "text/x-python",
      "name": "python",
      "nbconvert_exporter": "python",
      "pygments_lexer": "ipython3",
      "version": "3.8.13"
    },
    "nteract": {
      "version": "0.12.3"
    }
  },
  "nbformat": 4,
  "nbformat_minor": 0
}